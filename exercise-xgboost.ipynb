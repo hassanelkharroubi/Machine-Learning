{
 "cells": [
  {
   "cell_type": "markdown",
   "id": "28a6ce8c",
   "metadata": {
    "papermill": {
     "duration": 0.006298,
     "end_time": "2022-11-15T00:47:55.424208",
     "exception": false,
     "start_time": "2022-11-15T00:47:55.417910",
     "status": "completed"
    },
    "tags": []
   },
   "source": [
    "**This notebook is an exercise in the [Intermediate Machine Learning](https://www.kaggle.com/learn/intermediate-machine-learning) course.  You can reference the tutorial at [this link](https://www.kaggle.com/alexisbcook/xgboost).**\n",
    "\n",
    "---\n"
   ]
  },
  {
   "cell_type": "markdown",
   "id": "229049ea",
   "metadata": {
    "papermill": {
     "duration": 0.004805,
     "end_time": "2022-11-15T00:47:55.434237",
     "exception": false,
     "start_time": "2022-11-15T00:47:55.429432",
     "status": "completed"
    },
    "tags": []
   },
   "source": [
    "In this exercise, you will use your new knowledge to train a model with **gradient boosting**.\n",
    "\n",
    "# Setup\n",
    "\n",
    "The questions below will give you feedback on your work. Run the following cell to set up the feedback system."
   ]
  },
  {
   "cell_type": "code",
   "execution_count": 1,
   "id": "7457fe0f",
   "metadata": {
    "execution": {
     "iopub.execute_input": "2022-11-15T00:47:55.446528Z",
     "iopub.status.busy": "2022-11-15T00:47:55.445503Z",
     "iopub.status.idle": "2022-11-15T00:47:57.981065Z",
     "shell.execute_reply": "2022-11-15T00:47:57.980129Z"
    },
    "papermill": {
     "duration": 2.545219,
     "end_time": "2022-11-15T00:47:57.984381",
     "exception": false,
     "start_time": "2022-11-15T00:47:55.439162",
     "status": "completed"
    },
    "tags": []
   },
   "outputs": [
    {
     "name": "stdout",
     "output_type": "stream",
     "text": [
      "Setup Complete\n"
     ]
    }
   ],
   "source": [
    "# Set up code checking\n",
    "import os\n",
    "if not os.path.exists(\"../input/train.csv\"):\n",
    "    os.symlink(\"../input/home-data-for-ml-course/train.csv\", \"../input/train.csv\")  \n",
    "    os.symlink(\"../input/home-data-for-ml-course/test.csv\", \"../input/test.csv\") \n",
    "from learntools.core import binder\n",
    "binder.bind(globals())\n",
    "from learntools.ml_intermediate.ex6 import *\n",
    "print(\"Setup Complete\")"
   ]
  },
  {
   "cell_type": "markdown",
   "id": "8092484f",
   "metadata": {
    "papermill": {
     "duration": 0.005336,
     "end_time": "2022-11-15T00:47:57.996113",
     "exception": false,
     "start_time": "2022-11-15T00:47:57.990777",
     "status": "completed"
    },
    "tags": []
   },
   "source": [
    "You will work with the [Housing Prices Competition for Kaggle Learn Users](https://www.kaggle.com/c/home-data-for-ml-course) dataset from the previous exercise. \n",
    "\n",
    "![Ames Housing dataset image](https://i.imgur.com/lTJVG4e.png)\n",
    "\n",
    "Run the next code cell without changes to load the training and validation sets in `X_train`, `X_valid`, `y_train`, and `y_valid`.  The test set is loaded in `X_test`."
   ]
  },
  {
   "cell_type": "code",
   "execution_count": 2,
   "id": "66624279",
   "metadata": {
    "execution": {
     "iopub.execute_input": "2022-11-15T00:47:58.008138Z",
     "iopub.status.busy": "2022-11-15T00:47:58.007727Z",
     "iopub.status.idle": "2022-11-15T00:47:58.205801Z",
     "shell.execute_reply": "2022-11-15T00:47:58.204636Z"
    },
    "papermill": {
     "duration": 0.207116,
     "end_time": "2022-11-15T00:47:58.208441",
     "exception": false,
     "start_time": "2022-11-15T00:47:58.001325",
     "status": "completed"
    },
    "tags": []
   },
   "outputs": [],
   "source": [
    "import pandas as pd\n",
    "from sklearn.model_selection import train_test_split\n",
    "\n",
    "# Read the data\n",
    "X = pd.read_csv('../input/train.csv', index_col='Id')\n",
    "X_test_full = pd.read_csv('../input/test.csv', index_col='Id')\n",
    "\n",
    "# Remove rows with missing target, separate target from predictors\n",
    "X.dropna(axis=0, subset=['SalePrice'], inplace=True)\n",
    "y = X.SalePrice              \n",
    "X.drop(['SalePrice'], axis=1, inplace=True)\n",
    "\n",
    "# Break off validation set from training data\n",
    "X_train_full, X_valid_full, y_train, y_valid = train_test_split(X, y, train_size=0.8, test_size=0.2,\n",
    "                                                                random_state=0)\n",
    "\n",
    "# \"Cardinality\" means the number of unique values in a column\n",
    "# Select categorical columns with relatively low cardinality (convenient but arbitrary)\n",
    "low_cardinality_cols = [cname for cname in X_train_full.columns if X_train_full[cname].nunique() < 10 and \n",
    "                        X_train_full[cname].dtype == \"object\"]\n",
    "\n",
    "# Select numeric columns\n",
    "numeric_cols = [cname for cname in X_train_full.columns if X_train_full[cname].dtype in ['int64', 'float64']]\n",
    "\n",
    "# Keep selected columns only\n",
    "my_cols = low_cardinality_cols + numeric_cols\n",
    "X_train = X_train_full[my_cols].copy()\n",
    "X_valid = X_valid_full[my_cols].copy()\n",
    "X_test = X_test_full[my_cols].copy()\n",
    "\n",
    "# One-hot encode the data (to shorten the code, we use pandas)\n",
    "X_train = pd.get_dummies(X_train)\n",
    "X_valid = pd.get_dummies(X_valid)\n",
    "X_test = pd.get_dummies(X_test)\n",
    "X_train, X_valid = X_train.align(X_valid, join='left', axis=1)\n",
    "X_train, X_test = X_train.align(X_test, join='left', axis=1)"
   ]
  },
  {
   "cell_type": "markdown",
   "id": "df2b2141",
   "metadata": {
    "papermill": {
     "duration": 0.005486,
     "end_time": "2022-11-15T00:47:58.219267",
     "exception": false,
     "start_time": "2022-11-15T00:47:58.213781",
     "status": "completed"
    },
    "tags": []
   },
   "source": [
    "# Step 1: Build model\n",
    "\n",
    "### Part A\n",
    "\n",
    "In this step, you'll build and train your first model with gradient boosting.\n",
    "\n",
    "- Begin by setting `my_model_1` to an XGBoost model.  Use the [XGBRegressor](https://xgboost.readthedocs.io/en/latest/python/python_api.html#xgboost.XGBRegressor) class, and set the random seed to 0 (`random_state=0`).  **Leave all other parameters as default.**\n",
    "- Then, fit the model to the training data in `X_train` and `y_train`."
   ]
  },
  {
   "cell_type": "code",
   "execution_count": 3,
   "id": "375f7714",
   "metadata": {
    "execution": {
     "iopub.execute_input": "2022-11-15T00:47:58.231269Z",
     "iopub.status.busy": "2022-11-15T00:47:58.230653Z",
     "iopub.status.idle": "2022-11-15T00:47:59.165361Z",
     "shell.execute_reply": "2022-11-15T00:47:59.164425Z"
    },
    "papermill": {
     "duration": 0.9436,
     "end_time": "2022-11-15T00:47:59.167890",
     "exception": false,
     "start_time": "2022-11-15T00:47:58.224290",
     "status": "completed"
    },
    "tags": []
   },
   "outputs": [
    {
     "data": {
      "application/javascript": [
       "parent.postMessage({\"jupyterEvent\": \"custom.exercise_interaction\", \"data\": {\"outcomeType\": 1, \"valueTowardsCompletion\": 0.5, \"interactionType\": 1, \"questionType\": 2, \"questionId\": \"1.1_Model1A\", \"learnToolsVersion\": \"0.3.4\", \"failureMessage\": \"\", \"exceptionClass\": \"\", \"trace\": \"\"}}, \"*\")"
      ],
      "text/plain": [
       "<IPython.core.display.Javascript object>"
      ]
     },
     "metadata": {},
     "output_type": "display_data"
    },
    {
     "data": {
      "text/markdown": [
       "<span style=\"color:#33cc33\">Correct</span>"
      ],
      "text/plain": [
       "Correct"
      ]
     },
     "metadata": {},
     "output_type": "display_data"
    }
   ],
   "source": [
    "from xgboost import XGBRegressor\n",
    "\n",
    "# Define the model\n",
    "my_model_1 = XGBRegressor(random_state=0)\n",
    "\n",
    "# Fit the model\n",
    "my_model_1.fit(X_train, y_train)\n",
    "\n",
    "# Check your answer\n",
    "step_1.a.check()"
   ]
  },
  {
   "cell_type": "code",
   "execution_count": 4,
   "id": "c16d3c4c",
   "metadata": {
    "execution": {
     "iopub.execute_input": "2022-11-15T00:47:59.180434Z",
     "iopub.status.busy": "2022-11-15T00:47:59.180062Z",
     "iopub.status.idle": "2022-11-15T00:47:59.184225Z",
     "shell.execute_reply": "2022-11-15T00:47:59.183099Z"
    },
    "papermill": {
     "duration": 0.013089,
     "end_time": "2022-11-15T00:47:59.186419",
     "exception": false,
     "start_time": "2022-11-15T00:47:59.173330",
     "status": "completed"
    },
    "tags": []
   },
   "outputs": [],
   "source": [
    "# Lines below will give you a hint or solution code\n",
    "#step_1.a.hint()\n",
    "# step_1.a.solution()"
   ]
  },
  {
   "cell_type": "markdown",
   "id": "7e919a57",
   "metadata": {
    "papermill": {
     "duration": 0.006851,
     "end_time": "2022-11-15T00:47:59.198507",
     "exception": false,
     "start_time": "2022-11-15T00:47:59.191656",
     "status": "completed"
    },
    "tags": []
   },
   "source": [
    "### Part B\n",
    "\n",
    "Set `predictions_1` to the model's predictions for the validation data.  Recall that the validation features are stored in `X_valid`."
   ]
  },
  {
   "cell_type": "code",
   "execution_count": 5,
   "id": "de728742",
   "metadata": {
    "execution": {
     "iopub.execute_input": "2022-11-15T00:47:59.215288Z",
     "iopub.status.busy": "2022-11-15T00:47:59.214878Z",
     "iopub.status.idle": "2022-11-15T00:47:59.244408Z",
     "shell.execute_reply": "2022-11-15T00:47:59.243634Z"
    },
    "papermill": {
     "duration": 0.041679,
     "end_time": "2022-11-15T00:47:59.246776",
     "exception": false,
     "start_time": "2022-11-15T00:47:59.205097",
     "status": "completed"
    },
    "tags": []
   },
   "outputs": [
    {
     "data": {
      "application/javascript": [
       "parent.postMessage({\"jupyterEvent\": \"custom.exercise_interaction\", \"data\": {\"outcomeType\": 1, \"valueTowardsCompletion\": 0.5, \"interactionType\": 1, \"questionType\": 2, \"questionId\": \"1.2_Model1B\", \"learnToolsVersion\": \"0.3.4\", \"failureMessage\": \"\", \"exceptionClass\": \"\", \"trace\": \"\"}}, \"*\")"
      ],
      "text/plain": [
       "<IPython.core.display.Javascript object>"
      ]
     },
     "metadata": {},
     "output_type": "display_data"
    },
    {
     "data": {
      "text/markdown": [
       "<span style=\"color:#33cc33\">Correct</span>"
      ],
      "text/plain": [
       "Correct"
      ]
     },
     "metadata": {},
     "output_type": "display_data"
    }
   ],
   "source": [
    "from sklearn.metrics import mean_absolute_error\n",
    "\n",
    "# Get predictions\n",
    "predictions_1 = my_model_1.predict(X_valid)\n",
    "\n",
    "# Check your answer\n",
    "step_1.b.check()"
   ]
  },
  {
   "cell_type": "code",
   "execution_count": 6,
   "id": "1c0c35ca",
   "metadata": {
    "execution": {
     "iopub.execute_input": "2022-11-15T00:47:59.267698Z",
     "iopub.status.busy": "2022-11-15T00:47:59.266961Z",
     "iopub.status.idle": "2022-11-15T00:47:59.271371Z",
     "shell.execute_reply": "2022-11-15T00:47:59.270684Z"
    },
    "papermill": {
     "duration": 0.016823,
     "end_time": "2022-11-15T00:47:59.273652",
     "exception": false,
     "start_time": "2022-11-15T00:47:59.256829",
     "status": "completed"
    },
    "tags": []
   },
   "outputs": [],
   "source": [
    "# Lines below will give you a hint or solution code\n",
    "#step_1.b.hint()\n",
    "# step_1.b.solution()"
   ]
  },
  {
   "cell_type": "markdown",
   "id": "d2868055",
   "metadata": {
    "papermill": {
     "duration": 0.005253,
     "end_time": "2022-11-15T00:47:59.284935",
     "exception": false,
     "start_time": "2022-11-15T00:47:59.279682",
     "status": "completed"
    },
    "tags": []
   },
   "source": [
    "### Part C\n",
    "\n",
    "Finally, use the `mean_absolute_error()` function to calculate the mean absolute error (MAE) corresponding to the predictions for the validation set.  Recall that the labels for the validation data are stored in `y_valid`."
   ]
  },
  {
   "cell_type": "code",
   "execution_count": 7,
   "id": "cdf71d04",
   "metadata": {
    "execution": {
     "iopub.execute_input": "2022-11-15T00:47:59.302897Z",
     "iopub.status.busy": "2022-11-15T00:47:59.302157Z",
     "iopub.status.idle": "2022-11-15T00:47:59.314820Z",
     "shell.execute_reply": "2022-11-15T00:47:59.313682Z"
    },
    "papermill": {
     "duration": 0.024463,
     "end_time": "2022-11-15T00:47:59.317085",
     "exception": false,
     "start_time": "2022-11-15T00:47:59.292622",
     "status": "completed"
    },
    "tags": []
   },
   "outputs": [
    {
     "name": "stdout",
     "output_type": "stream",
     "text": [
      "Mean Absolute Error: 17662.736729452055\n"
     ]
    },
    {
     "data": {
      "application/javascript": [
       "parent.postMessage({\"jupyterEvent\": \"custom.exercise_interaction\", \"data\": {\"outcomeType\": 1, \"valueTowardsCompletion\": 0.5, \"interactionType\": 1, \"questionType\": 2, \"questionId\": \"1.3_Model1C\", \"learnToolsVersion\": \"0.3.4\", \"failureMessage\": \"\", \"exceptionClass\": \"\", \"trace\": \"\"}}, \"*\")"
      ],
      "text/plain": [
       "<IPython.core.display.Javascript object>"
      ]
     },
     "metadata": {},
     "output_type": "display_data"
    },
    {
     "data": {
      "text/markdown": [
       "<span style=\"color:#33cc33\">Correct</span>"
      ],
      "text/plain": [
       "Correct"
      ]
     },
     "metadata": {},
     "output_type": "display_data"
    }
   ],
   "source": [
    "# Calculate MAE\n",
    "mae_1 = mean_absolute_error(predictions_1, y_valid)\n",
    "\n",
    "# Uncomment to print MAE\n",
    "print(\"Mean Absolute Error:\" , mae_1)\n",
    "\n",
    "# Check your answer\n",
    "step_1.c.check()"
   ]
  },
  {
   "cell_type": "code",
   "execution_count": 8,
   "id": "0472c487",
   "metadata": {
    "execution": {
     "iopub.execute_input": "2022-11-15T00:47:59.330855Z",
     "iopub.status.busy": "2022-11-15T00:47:59.329783Z",
     "iopub.status.idle": "2022-11-15T00:47:59.334362Z",
     "shell.execute_reply": "2022-11-15T00:47:59.333664Z"
    },
    "papermill": {
     "duration": 0.013505,
     "end_time": "2022-11-15T00:47:59.336438",
     "exception": false,
     "start_time": "2022-11-15T00:47:59.322933",
     "status": "completed"
    },
    "tags": []
   },
   "outputs": [],
   "source": [
    "# Lines below will give you a hint or solution code\n",
    "#step_1.c.hint()\n",
    "# step_1.c.solution()"
   ]
  },
  {
   "cell_type": "markdown",
   "id": "7d5e7279",
   "metadata": {
    "papermill": {
     "duration": 0.006167,
     "end_time": "2022-11-15T00:47:59.348326",
     "exception": false,
     "start_time": "2022-11-15T00:47:59.342159",
     "status": "completed"
    },
    "tags": []
   },
   "source": [
    "# Step 2: Improve the model\n",
    "\n",
    "Now that you've trained a default model as baseline, it's time to tinker with the parameters, to see if you can get better performance!\n",
    "- Begin by setting `my_model_2` to an XGBoost model, using the [XGBRegressor](https://xgboost.readthedocs.io/en/latest/python/python_api.html#xgboost.XGBRegressor) class.  Use what you learned in the previous tutorial to figure out how to change the default parameters (like `n_estimators` and `learning_rate`) to get better results.\n",
    "- Then, fit the model to the training data in `X_train` and `y_train`.\n",
    "- Set `predictions_2` to the model's predictions for the validation data.  Recall that the validation features are stored in `X_valid`.\n",
    "- Finally, use the `mean_absolute_error()` function to calculate the mean absolute error (MAE) corresponding to the predictions on the validation set.  Recall that the labels for the validation data are stored in `y_valid`.\n",
    "\n",
    "In order for this step to be marked correct, your model in `my_model_2` must attain lower MAE than the model in `my_model_1`. "
   ]
  },
  {
   "cell_type": "code",
   "execution_count": 9,
   "id": "a68e8075",
   "metadata": {
    "execution": {
     "iopub.execute_input": "2022-11-15T00:47:59.361152Z",
     "iopub.status.busy": "2022-11-15T00:47:59.360812Z",
     "iopub.status.idle": "2022-11-15T00:48:08.305471Z",
     "shell.execute_reply": "2022-11-15T00:48:08.304264Z"
    },
    "papermill": {
     "duration": 8.953692,
     "end_time": "2022-11-15T00:48:08.307729",
     "exception": false,
     "start_time": "2022-11-15T00:47:59.354037",
     "status": "completed"
    },
    "tags": []
   },
   "outputs": [
    {
     "name": "stdout",
     "output_type": "stream",
     "text": [
      "Mean Absolute Error: 16688.691513270547\n"
     ]
    },
    {
     "data": {
      "application/javascript": [
       "parent.postMessage({\"jupyterEvent\": \"custom.exercise_interaction\", \"data\": {\"outcomeType\": 1, \"valueTowardsCompletion\": 0.5, \"interactionType\": 1, \"questionType\": 2, \"questionId\": \"2_Model2\", \"learnToolsVersion\": \"0.3.4\", \"failureMessage\": \"\", \"exceptionClass\": \"\", \"trace\": \"\"}}, \"*\")"
      ],
      "text/plain": [
       "<IPython.core.display.Javascript object>"
      ]
     },
     "metadata": {},
     "output_type": "display_data"
    },
    {
     "data": {
      "text/markdown": [
       "<span style=\"color:#33cc33\">Correct</span>"
      ],
      "text/plain": [
       "Correct"
      ]
     },
     "metadata": {},
     "output_type": "display_data"
    }
   ],
   "source": [
    "# Define the model\n",
    "my_model_2 = XGBRegressor(n_estimators=1000, learning_rate=0.05)\n",
    "\n",
    "# Fit the model\n",
    "my_model_2.fit(X_train, y_train)\n",
    "\n",
    "\n",
    "# Get predictions\n",
    "predictions_2 = my_model_2.predict(X_valid)\n",
    "# Calculate MAE\n",
    "mae_2 = mean_absolute_error(predictions_2, y_valid)\n",
    "\n",
    "\n",
    "# Uncomment to print MAE\n",
    "print(\"Mean Absolute Error:\" , mae_2)\n",
    "\n",
    "# Check your answer\n",
    "step_2.check()"
   ]
  },
  {
   "cell_type": "code",
   "execution_count": 10,
   "id": "7defe463",
   "metadata": {
    "execution": {
     "iopub.execute_input": "2022-11-15T00:48:08.323991Z",
     "iopub.status.busy": "2022-11-15T00:48:08.323558Z",
     "iopub.status.idle": "2022-11-15T00:48:08.327794Z",
     "shell.execute_reply": "2022-11-15T00:48:08.326691Z"
    },
    "papermill": {
     "duration": 0.015052,
     "end_time": "2022-11-15T00:48:08.330062",
     "exception": false,
     "start_time": "2022-11-15T00:48:08.315010",
     "status": "completed"
    },
    "tags": []
   },
   "outputs": [],
   "source": [
    "# Lines below will give you a hint or solution code\n",
    "#step_2.hint()\n",
    "# step_2.solution()"
   ]
  },
  {
   "cell_type": "markdown",
   "id": "c32be57f",
   "metadata": {
    "papermill": {
     "duration": 0.005923,
     "end_time": "2022-11-15T00:48:08.342155",
     "exception": false,
     "start_time": "2022-11-15T00:48:08.336232",
     "status": "completed"
    },
    "tags": []
   },
   "source": [
    "# Step 3: Break the model\n",
    "\n",
    "In this step, you will create a model that performs worse than the original model in Step 1.  This will help you to develop your intuition for how to set parameters.  You might even find that you accidentally get better performance, which is ultimately a nice problem to have and a valuable learning experience!\n",
    "- Begin by setting `my_model_3` to an XGBoost model, using the [XGBRegressor](https://xgboost.readthedocs.io/en/latest/python/python_api.html#xgboost.XGBRegressor) class.  Use what you learned in the previous tutorial to figure out how to change the default parameters (like `n_estimators` and `learning_rate`) to design a model to get high MAE.\n",
    "- Then, fit the model to the training data in `X_train` and `y_train`.\n",
    "- Set `predictions_3` to the model's predictions for the validation data.  Recall that the validation features are stored in `X_valid`.\n",
    "- Finally, use the `mean_absolute_error()` function to calculate the mean absolute error (MAE) corresponding to the predictions on the validation set.  Recall that the labels for the validation data are stored in `y_valid`.\n",
    "\n",
    "In order for this step to be marked correct, your model in `my_model_3` must attain higher MAE than the model in `my_model_1`. "
   ]
  },
  {
   "cell_type": "code",
   "execution_count": 11,
   "id": "8e7c8ab5",
   "metadata": {
    "execution": {
     "iopub.execute_input": "2022-11-15T00:48:08.356515Z",
     "iopub.status.busy": "2022-11-15T00:48:08.355814Z",
     "iopub.status.idle": "2022-11-15T00:48:08.419630Z",
     "shell.execute_reply": "2022-11-15T00:48:08.418589Z"
    },
    "papermill": {
     "duration": 0.07378,
     "end_time": "2022-11-15T00:48:08.421981",
     "exception": false,
     "start_time": "2022-11-15T00:48:08.348201",
     "status": "completed"
    },
    "tags": []
   },
   "outputs": [
    {
     "data": {
      "application/javascript": [
       "parent.postMessage({\"jupyterEvent\": \"custom.exercise_interaction\", \"data\": {\"outcomeType\": 1, \"valueTowardsCompletion\": 0.5, \"interactionType\": 1, \"questionType\": 2, \"questionId\": \"3_Model3\", \"learnToolsVersion\": \"0.3.4\", \"failureMessage\": \"\", \"exceptionClass\": \"\", \"trace\": \"\"}}, \"*\")"
      ],
      "text/plain": [
       "<IPython.core.display.Javascript object>"
      ]
     },
     "metadata": {},
     "output_type": "display_data"
    },
    {
     "data": {
      "text/markdown": [
       "<span style=\"color:#33cc33\">Correct</span>"
      ],
      "text/plain": [
       "Correct"
      ]
     },
     "metadata": {},
     "output_type": "display_data"
    }
   ],
   "source": [
    "# Define the model\n",
    "my_model_3 = XGBRegressor(n_estimators=1)\n",
    "\n",
    "# Fit the model\n",
    "my_model_3.fit(X_train, y_train)\n",
    "\n",
    "\n",
    "# Get predictions\n",
    "predictions_3 = my_model_3.predict(X_valid)\n",
    "\n",
    "\n",
    "# Calculate MAE\n",
    "mae_3 = mean_absolute_error(predictions_3, y_valid)\n",
    "\n",
    "# Uncomment to print MAE\n",
    "# print(\"Mean Absolute Error:\" , mae_3)\n",
    "\n",
    "# Check your answer\n",
    "step_3.check()"
   ]
  },
  {
   "cell_type": "code",
   "execution_count": 12,
   "id": "f241ac53",
   "metadata": {
    "execution": {
     "iopub.execute_input": "2022-11-15T00:48:08.437666Z",
     "iopub.status.busy": "2022-11-15T00:48:08.436959Z",
     "iopub.status.idle": "2022-11-15T00:48:08.444022Z",
     "shell.execute_reply": "2022-11-15T00:48:08.443257Z"
    },
    "papermill": {
     "duration": 0.01655,
     "end_time": "2022-11-15T00:48:08.445898",
     "exception": false,
     "start_time": "2022-11-15T00:48:08.429348",
     "status": "completed"
    },
    "tags": []
   },
   "outputs": [
    {
     "data": {
      "application/javascript": [
       "parent.postMessage({\"jupyterEvent\": \"custom.exercise_interaction\", \"data\": {\"interactionType\": 3, \"questionType\": 2, \"questionId\": \"3_Model3\", \"learnToolsVersion\": \"0.3.4\", \"valueTowardsCompletion\": 0.0, \"failureMessage\": \"\", \"exceptionClass\": \"\", \"trace\": \"\", \"outcomeType\": 4}}, \"*\")"
      ],
      "text/plain": [
       "<IPython.core.display.Javascript object>"
      ]
     },
     "metadata": {},
     "output_type": "display_data"
    },
    {
     "data": {
      "text/markdown": [
       "<span style=\"color:#33cc99\">Solution:</span> \n",
       "```python\n",
       "# Define the model\n",
       "my_model_3 = XGBRegressor(n_estimators=1)\n",
       "\n",
       "# Fit the model\n",
       "my_model_3.fit(X_train, y_train)\n",
       "\n",
       "# Get predictions\n",
       "predictions_3 = my_model_3.predict(X_valid)\n",
       "\n",
       "# Calculate MAE\n",
       "mae_3 = mean_absolute_error(predictions_3, y_valid)\n",
       "print(\"Mean Absolute Error:\" , mae_3)\n",
       "\n",
       "```"
      ],
      "text/plain": [
       "Solution: \n",
       "```python\n",
       "# Define the model\n",
       "my_model_3 = XGBRegressor(n_estimators=1)\n",
       "\n",
       "# Fit the model\n",
       "my_model_3.fit(X_train, y_train)\n",
       "\n",
       "# Get predictions\n",
       "predictions_3 = my_model_3.predict(X_valid)\n",
       "\n",
       "# Calculate MAE\n",
       "mae_3 = mean_absolute_error(predictions_3, y_valid)\n",
       "print(\"Mean Absolute Error:\" , mae_3)\n",
       "\n",
       "```"
      ]
     },
     "metadata": {},
     "output_type": "display_data"
    }
   ],
   "source": [
    "# Lines below will give you a hint or solution code\n",
    "#step_3.hint()\n",
    "step_3.solution()"
   ]
  },
  {
   "cell_type": "markdown",
   "id": "b32fcac5",
   "metadata": {
    "papermill": {
     "duration": 0.006424,
     "end_time": "2022-11-15T00:48:08.459149",
     "exception": false,
     "start_time": "2022-11-15T00:48:08.452725",
     "status": "completed"
    },
    "tags": []
   },
   "source": [
    "# Keep going\n",
    "\n",
    "Continue to learn about **[data leakage](https://www.kaggle.com/alexisbcook/data-leakage)**.  This is an important issue for a data scientist to understand, and it has the potential to ruin your models in subtle and dangerous ways!"
   ]
  },
  {
   "cell_type": "markdown",
   "id": "40d84a64",
   "metadata": {
    "papermill": {
     "duration": 0.006494,
     "end_time": "2022-11-15T00:48:08.472306",
     "exception": false,
     "start_time": "2022-11-15T00:48:08.465812",
     "status": "completed"
    },
    "tags": []
   },
   "source": [
    "---\n",
    "\n",
    "\n",
    "\n",
    "\n",
    "*Have questions or comments? Visit the [course discussion forum](https://www.kaggle.com/learn/intermediate-machine-learning/discussion) to chat with other learners.*"
   ]
  }
 ],
 "metadata": {
  "kernelspec": {
   "display_name": "Python 3",
   "language": "python",
   "name": "python3"
  },
  "language_info": {
   "codemirror_mode": {
    "name": "ipython",
    "version": 3
   },
   "file_extension": ".py",
   "mimetype": "text/x-python",
   "name": "python",
   "nbconvert_exporter": "python",
   "pygments_lexer": "ipython3",
   "version": "3.7.12"
  },
  "papermill": {
   "default_parameters": {},
   "duration": 21.962058,
   "end_time": "2022-11-15T00:48:09.200821",
   "environment_variables": {},
   "exception": null,
   "input_path": "__notebook__.ipynb",
   "output_path": "__notebook__.ipynb",
   "parameters": {},
   "start_time": "2022-11-15T00:47:47.238763",
   "version": "2.3.4"
  }
 },
 "nbformat": 4,
 "nbformat_minor": 5
}
