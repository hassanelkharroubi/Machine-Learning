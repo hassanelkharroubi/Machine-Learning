{
 "cells": [
  {
   "cell_type": "markdown",
   "id": "91c163f9",
   "metadata": {
    "papermill": {
     "duration": 0.00485,
     "end_time": "2022-11-15T01:02:31.683021",
     "exception": false,
     "start_time": "2022-11-15T01:02:31.678171",
     "status": "completed"
    },
    "tags": []
   },
   "source": [
    "**This notebook is an exercise in the [Introduction to Machine Learning](https://www.kaggle.com/learn/intro-to-machine-learning) course.  You can reference the tutorial at [this link](https://www.kaggle.com/dansbecker/underfitting-and-overfitting).**\n",
    "\n",
    "---\n"
   ]
  },
  {
   "cell_type": "markdown",
   "id": "98508852",
   "metadata": {
    "papermill": {
     "duration": 0.003518,
     "end_time": "2022-11-15T01:02:31.690626",
     "exception": false,
     "start_time": "2022-11-15T01:02:31.687108",
     "status": "completed"
    },
    "tags": []
   },
   "source": [
    "## Recap\n",
    "You've built your first model, and now it's time to optimize the size of the tree to make better predictions. Run this cell to set up your coding environment where the previous step left off."
   ]
  },
  {
   "cell_type": "code",
   "execution_count": 1,
   "id": "abcbcfc7",
   "metadata": {
    "execution": {
     "iopub.execute_input": "2022-11-15T01:02:31.700788Z",
     "iopub.status.busy": "2022-11-15T01:02:31.700220Z",
     "iopub.status.idle": "2022-11-15T01:02:33.313975Z",
     "shell.execute_reply": "2022-11-15T01:02:33.312520Z"
    },
    "papermill": {
     "duration": 1.62248,
     "end_time": "2022-11-15T01:02:33.316981",
     "exception": false,
     "start_time": "2022-11-15T01:02:31.694501",
     "status": "completed"
    },
    "tags": []
   },
   "outputs": [
    {
     "name": "stdout",
     "output_type": "stream",
     "text": [
      "Validation MAE: 29,653\n",
      "\n",
      "Setup complete\n"
     ]
    }
   ],
   "source": [
    "# Code you have previously used to load data\n",
    "import pandas as pd\n",
    "from sklearn.metrics import mean_absolute_error\n",
    "from sklearn.model_selection import train_test_split\n",
    "from sklearn.tree import DecisionTreeRegressor\n",
    "\n",
    "# Path of the file to read\n",
    "iowa_file_path = '../input/home-data-for-ml-course/train.csv'\n",
    "\n",
    "home_data = pd.read_csv(iowa_file_path)\n",
    "# Create target object and call it y\n",
    "y = home_data.SalePrice\n",
    "# Create X\n",
    "features = ['LotArea', 'YearBuilt', '1stFlrSF', '2ndFlrSF', 'FullBath', 'BedroomAbvGr', 'TotRmsAbvGrd']\n",
    "X = home_data[features]\n",
    "\n",
    "# Split into validation and training data\n",
    "train_X, val_X, train_y, val_y = train_test_split(X, y, random_state=1)\n",
    "\n",
    "# Specify Model\n",
    "iowa_model = DecisionTreeRegressor(random_state=1)\n",
    "# Fit Model\n",
    "iowa_model.fit(train_X, train_y)\n",
    "\n",
    "# Make validation predictions and calculate mean absolute error\n",
    "val_predictions = iowa_model.predict(val_X)\n",
    "val_mae = mean_absolute_error(val_predictions, val_y)\n",
    "print(\"Validation MAE: {:,.0f}\".format(val_mae))\n",
    "\n",
    "# Set up code checking\n",
    "from learntools.core import binder\n",
    "binder.bind(globals())\n",
    "from learntools.machine_learning.ex5 import *\n",
    "print(\"\\nSetup complete\")"
   ]
  },
  {
   "cell_type": "markdown",
   "id": "0b72c49b",
   "metadata": {
    "papermill": {
     "duration": 0.003698,
     "end_time": "2022-11-15T01:02:33.324685",
     "exception": false,
     "start_time": "2022-11-15T01:02:33.320987",
     "status": "completed"
    },
    "tags": []
   },
   "source": [
    "# Exercises\n",
    "You could write the function `get_mae` yourself. For now, we'll supply it. This is the same function you read about in the previous lesson. Just run the cell below."
   ]
  },
  {
   "cell_type": "code",
   "execution_count": 2,
   "id": "fb00565e",
   "metadata": {
    "execution": {
     "iopub.execute_input": "2022-11-15T01:02:33.334901Z",
     "iopub.status.busy": "2022-11-15T01:02:33.334309Z",
     "iopub.status.idle": "2022-11-15T01:02:33.343554Z",
     "shell.execute_reply": "2022-11-15T01:02:33.341816Z"
    },
    "papermill": {
     "duration": 0.017875,
     "end_time": "2022-11-15T01:02:33.346761",
     "exception": false,
     "start_time": "2022-11-15T01:02:33.328886",
     "status": "completed"
    },
    "tags": []
   },
   "outputs": [],
   "source": [
    "def get_mae(max_leaf_nodes, train_X, val_X, train_y, val_y):\n",
    "    model = DecisionTreeRegressor(max_leaf_nodes=max_leaf_nodes, random_state=0)\n",
    "    model.fit(train_X, train_y)\n",
    "    preds_val = model.predict(val_X)\n",
    "    mae = mean_absolute_error(val_y, preds_val)\n",
    "    return(mae)"
   ]
  },
  {
   "cell_type": "markdown",
   "id": "65baeaa3",
   "metadata": {
    "papermill": {
     "duration": 0.003691,
     "end_time": "2022-11-15T01:02:33.354673",
     "exception": false,
     "start_time": "2022-11-15T01:02:33.350982",
     "status": "completed"
    },
    "tags": []
   },
   "source": [
    "## Step 1: Compare Different Tree Sizes\n",
    "Write a loop that tries the following values for *max_leaf_nodes* from a set of possible values.\n",
    "\n",
    "Call the *get_mae* function on each value of max_leaf_nodes. Store the output in some way that allows you to select the value of `max_leaf_nodes` that gives the most accurate model on your data."
   ]
  },
  {
   "cell_type": "code",
   "execution_count": 3,
   "id": "cbe84443",
   "metadata": {
    "execution": {
     "iopub.execute_input": "2022-11-15T01:02:33.364439Z",
     "iopub.status.busy": "2022-11-15T01:02:33.363964Z",
     "iopub.status.idle": "2022-11-15T01:02:33.424587Z",
     "shell.execute_reply": "2022-11-15T01:02:33.423220Z"
    },
    "papermill": {
     "duration": 0.069255,
     "end_time": "2022-11-15T01:02:33.427838",
     "exception": false,
     "start_time": "2022-11-15T01:02:33.358583",
     "status": "completed"
    },
    "tags": []
   },
   "outputs": [
    {
     "name": "stdout",
     "output_type": "stream",
     "text": [
      "35044.51299744237\n",
      "29016.41319191076\n",
      "27405.930473214907\n",
      "27282.50803885739\n",
      "27893.822225701646\n",
      "29454.18598068598\n"
     ]
    },
    {
     "data": {
      "application/javascript": [
       "parent.postMessage({\"jupyterEvent\": \"custom.exercise_interaction\", \"data\": {\"outcomeType\": 1, \"valueTowardsCompletion\": 0.5, \"interactionType\": 1, \"questionType\": 1, \"questionId\": \"1_BestTreeSize\", \"learnToolsVersion\": \"0.3.4\", \"failureMessage\": \"\", \"exceptionClass\": \"\", \"trace\": \"\"}}, \"*\")"
      ],
      "text/plain": [
       "<IPython.core.display.Javascript object>"
      ]
     },
     "metadata": {},
     "output_type": "display_data"
    },
    {
     "data": {
      "text/markdown": [
       "<span style=\"color:#33cc33\">Correct</span>"
      ],
      "text/plain": [
       "Correct"
      ]
     },
     "metadata": {},
     "output_type": "display_data"
    }
   ],
   "source": [
    "candidate_max_leaf_nodes = [5, 25, 50, 100, 250, 500]\n",
    "# Write loop to find the ideal tree size from candidate_max_leaf_nodes\n",
    "for n_leaf in  candidate_max_leaf_nodes:\n",
    "    print(get_mae(n_leaf,train_X, val_X, train_y, val_y))\n",
    "\n",
    "# Store the best value of max_leaf_nodes (it will be either 5, 25, 50, 100, 250 or 500)\n",
    "best_tree_size = 100\n",
    "# Check your answer\n",
    "step_1.check()"
   ]
  },
  {
   "cell_type": "code",
   "execution_count": 4,
   "id": "a6a3b5d1",
   "metadata": {
    "execution": {
     "iopub.execute_input": "2022-11-15T01:02:33.438651Z",
     "iopub.status.busy": "2022-11-15T01:02:33.438201Z",
     "iopub.status.idle": "2022-11-15T01:02:33.443579Z",
     "shell.execute_reply": "2022-11-15T01:02:33.441785Z"
    },
    "papermill": {
     "duration": 0.014778,
     "end_time": "2022-11-15T01:02:33.447046",
     "exception": false,
     "start_time": "2022-11-15T01:02:33.432268",
     "status": "completed"
    },
    "tags": []
   },
   "outputs": [],
   "source": [
    "# The lines below will show you a hint or the solution.\n",
    "# step_1.hint() \n",
    "# step_1.solution()"
   ]
  },
  {
   "cell_type": "markdown",
   "id": "ead89c56",
   "metadata": {
    "papermill": {
     "duration": 0.004067,
     "end_time": "2022-11-15T01:02:33.455473",
     "exception": false,
     "start_time": "2022-11-15T01:02:33.451406",
     "status": "completed"
    },
    "tags": []
   },
   "source": [
    "## Step 2: Fit Model Using All Data\n",
    "You know the best tree size. If you were going to deploy this model in practice, you would make it even more accurate by using all of the data and keeping that tree size.  That is, you don't need to hold out the validation data now that you've made all your modeling decisions."
   ]
  },
  {
   "cell_type": "code",
   "execution_count": 5,
   "id": "361f83d5",
   "metadata": {
    "execution": {
     "iopub.execute_input": "2022-11-15T01:02:33.466609Z",
     "iopub.status.busy": "2022-11-15T01:02:33.466123Z",
     "iopub.status.idle": "2022-11-15T01:02:33.486643Z",
     "shell.execute_reply": "2022-11-15T01:02:33.485192Z"
    },
    "papermill": {
     "duration": 0.029956,
     "end_time": "2022-11-15T01:02:33.489952",
     "exception": false,
     "start_time": "2022-11-15T01:02:33.459996",
     "status": "completed"
    },
    "tags": []
   },
   "outputs": [
    {
     "data": {
      "application/javascript": [
       "parent.postMessage({\"jupyterEvent\": \"custom.exercise_interaction\", \"data\": {\"outcomeType\": 1, \"valueTowardsCompletion\": 0.5, \"interactionType\": 1, \"questionType\": 2, \"questionId\": \"2_FitModelWithAllData\", \"learnToolsVersion\": \"0.3.4\", \"failureMessage\": \"\", \"exceptionClass\": \"\", \"trace\": \"\"}}, \"*\")"
      ],
      "text/plain": [
       "<IPython.core.display.Javascript object>"
      ]
     },
     "metadata": {},
     "output_type": "display_data"
    },
    {
     "data": {
      "text/markdown": [
       "<span style=\"color:#33cc33\">Correct</span>"
      ],
      "text/plain": [
       "Correct"
      ]
     },
     "metadata": {},
     "output_type": "display_data"
    }
   ],
   "source": [
    "# Fill in argument to make optimal size and uncomment\n",
    "final_model = DecisionTreeRegressor(max_leaf_nodes=100,)\n",
    "\n",
    "# fit the final model and uncomment the next two lines\n",
    "final_model.fit(X, y)\n",
    "\n",
    "# Check your answer\n",
    "step_2.check()"
   ]
  },
  {
   "cell_type": "code",
   "execution_count": 6,
   "id": "e42f3cf5",
   "metadata": {
    "execution": {
     "iopub.execute_input": "2022-11-15T01:02:33.501514Z",
     "iopub.status.busy": "2022-11-15T01:02:33.501039Z",
     "iopub.status.idle": "2022-11-15T01:02:33.506356Z",
     "shell.execute_reply": "2022-11-15T01:02:33.504954Z"
    },
    "papermill": {
     "duration": 0.015252,
     "end_time": "2022-11-15T01:02:33.509887",
     "exception": false,
     "start_time": "2022-11-15T01:02:33.494635",
     "status": "completed"
    },
    "tags": []
   },
   "outputs": [],
   "source": [
    "# step_2.hint()\n",
    "# step_2.solution()"
   ]
  },
  {
   "cell_type": "markdown",
   "id": "96d497de",
   "metadata": {
    "papermill": {
     "duration": 0.004442,
     "end_time": "2022-11-15T01:02:33.519599",
     "exception": false,
     "start_time": "2022-11-15T01:02:33.515157",
     "status": "completed"
    },
    "tags": []
   },
   "source": [
    "You've tuned this model and improved your results. But we are still using Decision Tree models, which are not very sophisticated by modern machine learning standards. In the next step you will learn to use Random Forests to improve your models even more.\n",
    "\n",
    "# Keep Going\n",
    "\n",
    "You are ready for **[Random Forests](https://www.kaggle.com/dansbecker/random-forests).**\n"
   ]
  },
  {
   "cell_type": "markdown",
   "id": "abd082e1",
   "metadata": {
    "papermill": {
     "duration": 0.004353,
     "end_time": "2022-11-15T01:02:33.528961",
     "exception": false,
     "start_time": "2022-11-15T01:02:33.524608",
     "status": "completed"
    },
    "tags": []
   },
   "source": [
    "---\n",
    "\n",
    "\n",
    "\n",
    "\n",
    "*Have questions or comments? Visit the [course discussion forum](https://www.kaggle.com/learn/intro-to-machine-learning/discussion) to chat with other learners.*"
   ]
  }
 ],
 "metadata": {
  "kernelspec": {
   "display_name": "Python 3",
   "language": "python",
   "name": "python3"
  },
  "language_info": {
   "codemirror_mode": {
    "name": "ipython",
    "version": 3
   },
   "file_extension": ".py",
   "mimetype": "text/x-python",
   "name": "python",
   "nbconvert_exporter": "python",
   "pygments_lexer": "ipython3",
   "version": "3.7.12"
  },
  "papermill": {
   "default_parameters": {},
   "duration": 14.176065,
   "end_time": "2022-11-15T01:02:34.359952",
   "environment_variables": {},
   "exception": null,
   "input_path": "__notebook__.ipynb",
   "output_path": "__notebook__.ipynb",
   "parameters": {},
   "start_time": "2022-11-15T01:02:20.183887",
   "version": "2.3.4"
  }
 },
 "nbformat": 4,
 "nbformat_minor": 5
}
