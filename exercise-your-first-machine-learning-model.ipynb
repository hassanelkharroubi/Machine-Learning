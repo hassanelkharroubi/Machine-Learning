{
 "cells": [
  {
   "cell_type": "markdown",
   "id": "ef937a29",
   "metadata": {
    "papermill": {
     "duration": 0.005354,
     "end_time": "2022-11-15T01:02:12.304600",
     "exception": false,
     "start_time": "2022-11-15T01:02:12.299246",
     "status": "completed"
    },
    "tags": []
   },
   "source": [
    "**This notebook is an exercise in the [Introduction to Machine Learning](https://www.kaggle.com/learn/intro-to-machine-learning) course.  You can reference the tutorial at [this link](https://www.kaggle.com/dansbecker/your-first-machine-learning-model).**\n",
    "\n",
    "---\n"
   ]
  },
  {
   "cell_type": "markdown",
   "id": "1a039c84",
   "metadata": {
    "papermill": {
     "duration": 0.004211,
     "end_time": "2022-11-15T01:02:12.313554",
     "exception": false,
     "start_time": "2022-11-15T01:02:12.309343",
     "status": "completed"
    },
    "tags": []
   },
   "source": [
    "## Recap\n",
    "So far, you have loaded your data and reviewed it with the following code. Run this cell to set up your coding environment where the previous step left off."
   ]
  },
  {
   "cell_type": "code",
   "execution_count": 1,
   "id": "7fc95e85",
   "metadata": {
    "execution": {
     "iopub.execute_input": "2022-11-15T01:02:12.324969Z",
     "iopub.status.busy": "2022-11-15T01:02:12.323978Z",
     "iopub.status.idle": "2022-11-15T01:02:13.628566Z",
     "shell.execute_reply": "2022-11-15T01:02:13.627141Z"
    },
    "papermill": {
     "duration": 1.312675,
     "end_time": "2022-11-15T01:02:13.630576",
     "exception": false,
     "start_time": "2022-11-15T01:02:12.317901",
     "status": "completed"
    },
    "tags": []
   },
   "outputs": [
    {
     "name": "stdout",
     "output_type": "stream",
     "text": [
      "Setup Complete\n"
     ]
    }
   ],
   "source": [
    "# Code you have previously used to load data\n",
    "import pandas as pd\n",
    "\n",
    "# Path of the file to read\n",
    "iowa_file_path = '../input/home-data-for-ml-course/train.csv'\n",
    "\n",
    "home_data = pd.read_csv(iowa_file_path)\n",
    "\n",
    "# Set up code checking\n",
    "from learntools.core import binder\n",
    "binder.bind(globals())\n",
    "from learntools.machine_learning.ex3 import *\n",
    "\n",
    "print(\"Setup Complete\")"
   ]
  },
  {
   "cell_type": "markdown",
   "id": "86e48618",
   "metadata": {
    "papermill": {
     "duration": 0.00453,
     "end_time": "2022-11-15T01:02:13.641343",
     "exception": false,
     "start_time": "2022-11-15T01:02:13.636813",
     "status": "completed"
    },
    "tags": []
   },
   "source": [
    "# Exercises\n",
    "\n",
    "## Step 1: Specify Prediction Target\n",
    "Select the target variable, which corresponds to the sales price. Save this to a new variable called `y`. You'll need to print a list of the columns to find the name of the column you need.\n"
   ]
  },
  {
   "cell_type": "code",
   "execution_count": 2,
   "id": "4c40fd9e",
   "metadata": {
    "execution": {
     "iopub.execute_input": "2022-11-15T01:02:13.653099Z",
     "iopub.status.busy": "2022-11-15T01:02:13.652787Z",
     "iopub.status.idle": "2022-11-15T01:02:13.662368Z",
     "shell.execute_reply": "2022-11-15T01:02:13.661152Z"
    },
    "papermill": {
     "duration": 0.017804,
     "end_time": "2022-11-15T01:02:13.664306",
     "exception": false,
     "start_time": "2022-11-15T01:02:13.646502",
     "status": "completed"
    },
    "tags": []
   },
   "outputs": [
    {
     "data": {
      "text/plain": [
       "['Id',\n",
       " 'MSSubClass',\n",
       " 'MSZoning',\n",
       " 'LotFrontage',\n",
       " 'LotArea',\n",
       " 'Street',\n",
       " 'Alley',\n",
       " 'LotShape',\n",
       " 'LandContour',\n",
       " 'Utilities',\n",
       " 'LotConfig',\n",
       " 'LandSlope',\n",
       " 'Neighborhood',\n",
       " 'Condition1',\n",
       " 'Condition2',\n",
       " 'BldgType',\n",
       " 'HouseStyle',\n",
       " 'OverallQual',\n",
       " 'OverallCond',\n",
       " 'YearBuilt',\n",
       " 'YearRemodAdd',\n",
       " 'RoofStyle',\n",
       " 'RoofMatl',\n",
       " 'Exterior1st',\n",
       " 'Exterior2nd',\n",
       " 'MasVnrType',\n",
       " 'MasVnrArea',\n",
       " 'ExterQual',\n",
       " 'ExterCond',\n",
       " 'Foundation',\n",
       " 'BsmtQual',\n",
       " 'BsmtCond',\n",
       " 'BsmtExposure',\n",
       " 'BsmtFinType1',\n",
       " 'BsmtFinSF1',\n",
       " 'BsmtFinType2',\n",
       " 'BsmtFinSF2',\n",
       " 'BsmtUnfSF',\n",
       " 'TotalBsmtSF',\n",
       " 'Heating',\n",
       " 'HeatingQC',\n",
       " 'CentralAir',\n",
       " 'Electrical',\n",
       " '1stFlrSF',\n",
       " '2ndFlrSF',\n",
       " 'LowQualFinSF',\n",
       " 'GrLivArea',\n",
       " 'BsmtFullBath',\n",
       " 'BsmtHalfBath',\n",
       " 'FullBath',\n",
       " 'HalfBath',\n",
       " 'BedroomAbvGr',\n",
       " 'KitchenAbvGr',\n",
       " 'KitchenQual',\n",
       " 'TotRmsAbvGrd',\n",
       " 'Functional',\n",
       " 'Fireplaces',\n",
       " 'FireplaceQu',\n",
       " 'GarageType',\n",
       " 'GarageYrBlt',\n",
       " 'GarageFinish',\n",
       " 'GarageCars',\n",
       " 'GarageArea',\n",
       " 'GarageQual',\n",
       " 'GarageCond',\n",
       " 'PavedDrive',\n",
       " 'WoodDeckSF',\n",
       " 'OpenPorchSF',\n",
       " 'EnclosedPorch',\n",
       " '3SsnPorch',\n",
       " 'ScreenPorch',\n",
       " 'PoolArea',\n",
       " 'PoolQC',\n",
       " 'Fence',\n",
       " 'MiscFeature',\n",
       " 'MiscVal',\n",
       " 'MoSold',\n",
       " 'YrSold',\n",
       " 'SaleType',\n",
       " 'SaleCondition',\n",
       " 'SalePrice']"
      ]
     },
     "execution_count": 2,
     "metadata": {},
     "output_type": "execute_result"
    }
   ],
   "source": [
    "# print the list of columns in the dataset to find the name of the prediction target\n",
    "list(home_data.columns)\n"
   ]
  },
  {
   "cell_type": "code",
   "execution_count": 3,
   "id": "d174c91c",
   "metadata": {
    "execution": {
     "iopub.execute_input": "2022-11-15T01:02:13.675471Z",
     "iopub.status.busy": "2022-11-15T01:02:13.675161Z",
     "iopub.status.idle": "2022-11-15T01:02:13.687014Z",
     "shell.execute_reply": "2022-11-15T01:02:13.686282Z"
    },
    "papermill": {
     "duration": 0.01951,
     "end_time": "2022-11-15T01:02:13.688657",
     "exception": false,
     "start_time": "2022-11-15T01:02:13.669147",
     "status": "completed"
    },
    "tags": []
   },
   "outputs": [
    {
     "data": {
      "application/javascript": [
       "parent.postMessage({\"jupyterEvent\": \"custom.exercise_interaction\", \"data\": {\"outcomeType\": 1, \"valueTowardsCompletion\": 0.25, \"interactionType\": 1, \"questionType\": 2, \"questionId\": \"1_SetTarget\", \"learnToolsVersion\": \"0.3.4\", \"failureMessage\": \"\", \"exceptionClass\": \"\", \"trace\": \"\"}}, \"*\")"
      ],
      "text/plain": [
       "<IPython.core.display.Javascript object>"
      ]
     },
     "metadata": {},
     "output_type": "display_data"
    },
    {
     "data": {
      "text/markdown": [
       "<span style=\"color:#33cc33\">Correct</span>"
      ],
      "text/plain": [
       "Correct"
      ]
     },
     "metadata": {},
     "output_type": "display_data"
    }
   ],
   "source": [
    "y = home_data.SalePrice\n",
    "\n",
    "# Check your answer\n",
    "step_1.check()"
   ]
  },
  {
   "cell_type": "code",
   "execution_count": 4,
   "id": "5adf7aa0",
   "metadata": {
    "collapsed": true,
    "execution": {
     "iopub.execute_input": "2022-11-15T01:02:13.700957Z",
     "iopub.status.busy": "2022-11-15T01:02:13.699800Z",
     "iopub.status.idle": "2022-11-15T01:02:13.703563Z",
     "shell.execute_reply": "2022-11-15T01:02:13.702990Z"
    },
    "jupyter": {
     "outputs_hidden": true
    },
    "papermill": {
     "duration": 0.012106,
     "end_time": "2022-11-15T01:02:13.705732",
     "exception": false,
     "start_time": "2022-11-15T01:02:13.693626",
     "status": "completed"
    },
    "tags": []
   },
   "outputs": [],
   "source": [
    "# The lines below will show you a hint or the solution.\n",
    "# step_1.hint() \n",
    "# step_1.solution()"
   ]
  },
  {
   "cell_type": "markdown",
   "id": "688ef0b3",
   "metadata": {
    "papermill": {
     "duration": 0.004662,
     "end_time": "2022-11-15T01:02:13.717250",
     "exception": false,
     "start_time": "2022-11-15T01:02:13.712588",
     "status": "completed"
    },
    "tags": []
   },
   "source": [
    "## Step 2: Create X\n",
    "Now you will create a DataFrame called `X` holding the predictive features.\n",
    "\n",
    "Since you want only some columns from the original data, you'll first create a list with the names of the columns you want in `X`.\n",
    "\n",
    "You'll use just the following columns in the list (you can copy and paste the whole list to save some typing, though you'll still need to add quotes):\n",
    "  * LotArea\n",
    "  * YearBuilt\n",
    "  * 1stFlrSF\n",
    "  * 2ndFlrSF\n",
    "  * FullBath\n",
    "  * BedroomAbvGr\n",
    "  * TotRmsAbvGrd\n",
    "\n",
    "After you've created that list of features, use it to create the DataFrame that you'll use to fit the model."
   ]
  },
  {
   "cell_type": "code",
   "execution_count": 5,
   "id": "dc51e381",
   "metadata": {
    "execution": {
     "iopub.execute_input": "2022-11-15T01:02:13.732656Z",
     "iopub.status.busy": "2022-11-15T01:02:13.732261Z",
     "iopub.status.idle": "2022-11-15T01:02:13.746981Z",
     "shell.execute_reply": "2022-11-15T01:02:13.745738Z"
    },
    "papermill": {
     "duration": 0.023979,
     "end_time": "2022-11-15T01:02:13.748877",
     "exception": false,
     "start_time": "2022-11-15T01:02:13.724898",
     "status": "completed"
    },
    "tags": []
   },
   "outputs": [
    {
     "data": {
      "application/javascript": [
       "parent.postMessage({\"jupyterEvent\": \"custom.exercise_interaction\", \"data\": {\"outcomeType\": 1, \"valueTowardsCompletion\": 0.25, \"interactionType\": 1, \"questionType\": 2, \"questionId\": \"2_SelectPredictionData\", \"learnToolsVersion\": \"0.3.4\", \"failureMessage\": \"\", \"exceptionClass\": \"\", \"trace\": \"\"}}, \"*\")"
      ],
      "text/plain": [
       "<IPython.core.display.Javascript object>"
      ]
     },
     "metadata": {},
     "output_type": "display_data"
    },
    {
     "data": {
      "text/markdown": [
       "<span style=\"color:#33cc33\">Correct</span>"
      ],
      "text/plain": [
       "Correct"
      ]
     },
     "metadata": {},
     "output_type": "display_data"
    }
   ],
   "source": [
    "# Create the list of features below\n",
    "feature_names = [\"LotArea\", \"YearBuilt\", \"1stFlrSF\", \"2ndFlrSF\", \"FullBath\",\"BedroomAbvGr\",\"TotRmsAbvGrd\"]\n",
    "\n",
    "# Select data corresponding to features in feature_names\n",
    "X = home_data[feature_names]\n",
    "\n",
    "# Check your answer\n",
    "step_2.check()"
   ]
  },
  {
   "cell_type": "code",
   "execution_count": 6,
   "id": "15d3d306",
   "metadata": {
    "collapsed": true,
    "execution": {
     "iopub.execute_input": "2022-11-15T01:02:13.765424Z",
     "iopub.status.busy": "2022-11-15T01:02:13.764551Z",
     "iopub.status.idle": "2022-11-15T01:02:13.771399Z",
     "shell.execute_reply": "2022-11-15T01:02:13.769802Z"
    },
    "jupyter": {
     "outputs_hidden": true
    },
    "papermill": {
     "duration": 0.019938,
     "end_time": "2022-11-15T01:02:13.775161",
     "exception": false,
     "start_time": "2022-11-15T01:02:13.755223",
     "status": "completed"
    },
    "tags": []
   },
   "outputs": [],
   "source": [
    "# step_2.hint()\n",
    "# step_2.solution()"
   ]
  },
  {
   "cell_type": "markdown",
   "id": "cf4f2bc8",
   "metadata": {
    "papermill": {
     "duration": 0.004995,
     "end_time": "2022-11-15T01:02:13.785687",
     "exception": false,
     "start_time": "2022-11-15T01:02:13.780692",
     "status": "completed"
    },
    "tags": []
   },
   "source": [
    "## Review Data\n",
    "Before building a model, take a quick look at **X** to verify it looks sensible"
   ]
  },
  {
   "cell_type": "code",
   "execution_count": 7,
   "id": "38a92350",
   "metadata": {
    "execution": {
     "iopub.execute_input": "2022-11-15T01:02:13.798859Z",
     "iopub.status.busy": "2022-11-15T01:02:13.797984Z",
     "iopub.status.idle": "2022-11-15T01:02:13.833204Z",
     "shell.execute_reply": "2022-11-15T01:02:13.831693Z"
    },
    "papermill": {
     "duration": 0.044007,
     "end_time": "2022-11-15T01:02:13.835208",
     "exception": false,
     "start_time": "2022-11-15T01:02:13.791201",
     "status": "completed"
    },
    "tags": []
   },
   "outputs": [
    {
     "name": "stdout",
     "output_type": "stream",
     "text": [
      "             LotArea    YearBuilt     1stFlrSF     2ndFlrSF     FullBath  \\\n",
      "count    1460.000000  1460.000000  1460.000000  1460.000000  1460.000000   \n",
      "mean    10516.828082  1971.267808  1162.626712   346.992466     1.565068   \n",
      "std      9981.264932    30.202904   386.587738   436.528436     0.550916   \n",
      "min      1300.000000  1872.000000   334.000000     0.000000     0.000000   \n",
      "25%      7553.500000  1954.000000   882.000000     0.000000     1.000000   \n",
      "50%      9478.500000  1973.000000  1087.000000     0.000000     2.000000   \n",
      "75%     11601.500000  2000.000000  1391.250000   728.000000     2.000000   \n",
      "max    215245.000000  2010.000000  4692.000000  2065.000000     3.000000   \n",
      "\n",
      "       BedroomAbvGr  TotRmsAbvGrd  \n",
      "count   1460.000000   1460.000000  \n",
      "mean       2.866438      6.517808  \n",
      "std        0.815778      1.625393  \n",
      "min        0.000000      2.000000  \n",
      "25%        2.000000      5.000000  \n",
      "50%        3.000000      6.000000  \n",
      "75%        3.000000      7.000000  \n",
      "max        8.000000     14.000000  \n",
      "------------------------------------------------------------------------------------------------------------------------\n",
      "   LotArea  YearBuilt  1stFlrSF  2ndFlrSF  FullBath  BedroomAbvGr  \\\n",
      "0     8450       2003       856       854         2             3   \n",
      "1     9600       1976      1262         0         2             3   \n",
      "2    11250       2001       920       866         2             3   \n",
      "3     9550       1915       961       756         1             3   \n",
      "4    14260       2000      1145      1053         2             4   \n",
      "\n",
      "   TotRmsAbvGrd  \n",
      "0             8  \n",
      "1             6  \n",
      "2             6  \n",
      "3             7  \n",
      "4             9  \n"
     ]
    }
   ],
   "source": [
    "# Review data\n",
    "# print description or statistics from X\n",
    "print(X.describe())\n",
    "\n",
    "# print the top few lines\n",
    "print(\"----\"*30)\n",
    "print(X.head())"
   ]
  },
  {
   "cell_type": "markdown",
   "id": "247a7112",
   "metadata": {
    "papermill": {
     "duration": 0.00519,
     "end_time": "2022-11-15T01:02:13.846116",
     "exception": false,
     "start_time": "2022-11-15T01:02:13.840926",
     "status": "completed"
    },
    "tags": []
   },
   "source": [
    "## Step 3: Specify and Fit Model\n",
    "Create a `DecisionTreeRegressor` and save it iowa_model. Ensure you've done the relevant import from sklearn to run this command.\n",
    "\n",
    "Then fit the model you just created using the data in `X` and `y` that you saved above."
   ]
  },
  {
   "cell_type": "code",
   "execution_count": 8,
   "id": "efa878cd",
   "metadata": {
    "execution": {
     "iopub.execute_input": "2022-11-15T01:02:13.859619Z",
     "iopub.status.busy": "2022-11-15T01:02:13.858630Z",
     "iopub.status.idle": "2022-11-15T01:02:13.879201Z",
     "shell.execute_reply": "2022-11-15T01:02:13.878248Z"
    },
    "papermill": {
     "duration": 0.03092,
     "end_time": "2022-11-15T01:02:13.882642",
     "exception": false,
     "start_time": "2022-11-15T01:02:13.851722",
     "status": "completed"
    },
    "tags": []
   },
   "outputs": [
    {
     "data": {
      "application/javascript": [
       "parent.postMessage({\"jupyterEvent\": \"custom.exercise_interaction\", \"data\": {\"outcomeType\": 1, \"valueTowardsCompletion\": 0.25, \"interactionType\": 1, \"questionType\": 2, \"questionId\": \"3_CreateModel\", \"learnToolsVersion\": \"0.3.4\", \"failureMessage\": \"\", \"exceptionClass\": \"\", \"trace\": \"\"}}, \"*\")"
      ],
      "text/plain": [
       "<IPython.core.display.Javascript object>"
      ]
     },
     "metadata": {},
     "output_type": "display_data"
    },
    {
     "data": {
      "text/markdown": [
       "<span style=\"color:#33cc33\">Correct</span>"
      ],
      "text/plain": [
       "Correct"
      ]
     },
     "metadata": {},
     "output_type": "display_data"
    }
   ],
   "source": [
    "from sklearn.tree import DecisionTreeRegressor\n",
    "#specify the model. \n",
    "#For model reproducibility, set a numeric value for random_state when specifying the model\n",
    "iowa_model = DecisionTreeRegressor(random_state=1)\n",
    "\n",
    "# Fit the model\n",
    "iowa_model.fit(X,y)\n",
    "\n",
    "# Check your answer\n",
    "step_3.check()"
   ]
  },
  {
   "cell_type": "code",
   "execution_count": 9,
   "id": "581b519a",
   "metadata": {
    "execution": {
     "iopub.execute_input": "2022-11-15T01:02:13.898338Z",
     "iopub.status.busy": "2022-11-15T01:02:13.897821Z",
     "iopub.status.idle": "2022-11-15T01:02:13.901174Z",
     "shell.execute_reply": "2022-11-15T01:02:13.900586Z"
    },
    "papermill": {
     "duration": 0.014292,
     "end_time": "2022-11-15T01:02:13.903207",
     "exception": false,
     "start_time": "2022-11-15T01:02:13.888915",
     "status": "completed"
    },
    "tags": []
   },
   "outputs": [],
   "source": [
    "# step_3.hint()\n",
    "#step_3.solution()"
   ]
  },
  {
   "cell_type": "markdown",
   "id": "16ab5269",
   "metadata": {
    "papermill": {
     "duration": 0.006403,
     "end_time": "2022-11-15T01:02:13.916640",
     "exception": false,
     "start_time": "2022-11-15T01:02:13.910237",
     "status": "completed"
    },
    "tags": []
   },
   "source": [
    "## Step 4: Make Predictions\n",
    "Make predictions with the model's `predict` command using `X` as the data. Save the results to a variable called `predictions`."
   ]
  },
  {
   "cell_type": "code",
   "execution_count": 10,
   "id": "740ca103",
   "metadata": {
    "execution": {
     "iopub.execute_input": "2022-11-15T01:02:13.932049Z",
     "iopub.status.busy": "2022-11-15T01:02:13.931318Z",
     "iopub.status.idle": "2022-11-15T01:02:13.945059Z",
     "shell.execute_reply": "2022-11-15T01:02:13.943850Z"
    },
    "papermill": {
     "duration": 0.02379,
     "end_time": "2022-11-15T01:02:13.947129",
     "exception": false,
     "start_time": "2022-11-15T01:02:13.923339",
     "status": "completed"
    },
    "tags": []
   },
   "outputs": [
    {
     "name": "stdout",
     "output_type": "stream",
     "text": [
      "[208500. 181500. 223500. ... 266500. 142125. 147500.]\n"
     ]
    },
    {
     "data": {
      "application/javascript": [
       "parent.postMessage({\"jupyterEvent\": \"custom.exercise_interaction\", \"data\": {\"outcomeType\": 1, \"valueTowardsCompletion\": 0.25, \"interactionType\": 1, \"questionType\": 2, \"questionId\": \"4_MakePredictions\", \"learnToolsVersion\": \"0.3.4\", \"failureMessage\": \"\", \"exceptionClass\": \"\", \"trace\": \"\"}}, \"*\")"
      ],
      "text/plain": [
       "<IPython.core.display.Javascript object>"
      ]
     },
     "metadata": {},
     "output_type": "display_data"
    },
    {
     "data": {
      "text/markdown": [
       "<span style=\"color:#33cc33\">Correct</span>"
      ],
      "text/plain": [
       "Correct"
      ]
     },
     "metadata": {},
     "output_type": "display_data"
    }
   ],
   "source": [
    "predictions = iowa_model.predict(X)\n",
    "print(predictions)\n",
    "\n",
    "# Check your answer\n",
    "step_4.check()"
   ]
  },
  {
   "cell_type": "code",
   "execution_count": 11,
   "id": "e2ce9aef",
   "metadata": {
    "collapsed": true,
    "execution": {
     "iopub.execute_input": "2022-11-15T01:02:13.962892Z",
     "iopub.status.busy": "2022-11-15T01:02:13.961871Z",
     "iopub.status.idle": "2022-11-15T01:02:13.967260Z",
     "shell.execute_reply": "2022-11-15T01:02:13.966112Z"
    },
    "jupyter": {
     "outputs_hidden": true
    },
    "papermill": {
     "duration": 0.01612,
     "end_time": "2022-11-15T01:02:13.969542",
     "exception": false,
     "start_time": "2022-11-15T01:02:13.953422",
     "status": "completed"
    },
    "tags": []
   },
   "outputs": [],
   "source": [
    "# step_4.hint()\n",
    "# step_4.solution()"
   ]
  },
  {
   "cell_type": "markdown",
   "id": "d18ffc2a",
   "metadata": {
    "papermill": {
     "duration": 0.005666,
     "end_time": "2022-11-15T01:02:13.981092",
     "exception": false,
     "start_time": "2022-11-15T01:02:13.975426",
     "status": "completed"
    },
    "tags": []
   },
   "source": [
    "## Think About Your Results\n",
    "\n",
    "Use the `head` method to compare the top few predictions to the actual home values (in `y`) for those same homes. Anything surprising?\n"
   ]
  },
  {
   "cell_type": "code",
   "execution_count": 12,
   "id": "cddf7224",
   "metadata": {
    "execution": {
     "iopub.execute_input": "2022-11-15T01:02:13.994730Z",
     "iopub.status.busy": "2022-11-15T01:02:13.993915Z",
     "iopub.status.idle": "2022-11-15T01:02:14.000663Z",
     "shell.execute_reply": "2022-11-15T01:02:13.999755Z"
    },
    "papermill": {
     "duration": 0.016194,
     "end_time": "2022-11-15T01:02:14.003021",
     "exception": false,
     "start_time": "2022-11-15T01:02:13.986827",
     "status": "completed"
    },
    "tags": []
   },
   "outputs": [
    {
     "data": {
      "text/plain": [
       "0    208500\n",
       "1    181500\n",
       "2    223500\n",
       "3    140000\n",
       "4    250000\n",
       "5    143000\n",
       "6    307000\n",
       "7    200000\n",
       "8    129900\n",
       "9    118000\n",
       "Name: SalePrice, dtype: int64"
      ]
     },
     "execution_count": 12,
     "metadata": {},
     "output_type": "execute_result"
    }
   ],
   "source": [
    "# You can write code in this cell\n",
    "y.head(10)"
   ]
  },
  {
   "cell_type": "markdown",
   "id": "e6a26689",
   "metadata": {
    "papermill": {
     "duration": 0.00581,
     "end_time": "2022-11-15T01:02:14.014991",
     "exception": false,
     "start_time": "2022-11-15T01:02:14.009181",
     "status": "completed"
    },
    "tags": []
   },
   "source": [
    "It's natural to ask how accurate the model's predictions will be and how you can improve that. That will be you're next step.\n",
    "\n",
    "# Keep Going\n",
    "\n",
    "You are ready for **[Model Validation](https://www.kaggle.com/dansbecker/model-validation).**\n"
   ]
  },
  {
   "cell_type": "markdown",
   "id": "f2fae7f3",
   "metadata": {
    "papermill": {
     "duration": 0.005538,
     "end_time": "2022-11-15T01:02:14.026639",
     "exception": false,
     "start_time": "2022-11-15T01:02:14.021101",
     "status": "completed"
    },
    "tags": []
   },
   "source": [
    "---\n",
    "\n",
    "\n",
    "\n",
    "\n",
    "*Have questions or comments? Visit the [course discussion forum](https://www.kaggle.com/learn/intro-to-machine-learning/discussion) to chat with other learners.*"
   ]
  }
 ],
 "metadata": {
  "kernelspec": {
   "display_name": "Python 3",
   "language": "python",
   "name": "python3"
  },
  "language_info": {
   "codemirror_mode": {
    "name": "ipython",
    "version": 3
   },
   "file_extension": ".py",
   "mimetype": "text/x-python",
   "name": "python",
   "nbconvert_exporter": "python",
   "pygments_lexer": "ipython3",
   "version": "3.7.12"
  },
  "papermill": {
   "default_parameters": {},
   "duration": 10.27079,
   "end_time": "2022-11-15T01:02:14.855296",
   "environment_variables": {},
   "exception": null,
   "input_path": "__notebook__.ipynb",
   "output_path": "__notebook__.ipynb",
   "parameters": {},
   "start_time": "2022-11-15T01:02:04.584506",
   "version": "2.3.4"
  }
 },
 "nbformat": 4,
 "nbformat_minor": 5
}
